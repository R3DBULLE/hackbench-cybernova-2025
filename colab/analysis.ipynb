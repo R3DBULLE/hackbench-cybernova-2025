{
 "cells": [
  {
   "cell_type": "code",
   "execution_count": null,
   "id": "6dace53b",
   "metadata": {
    "vscode": {
     "languageId": "plaintext"
    }
   },
   "outputs": [],
   "source": [
    "# 🔍 HackBench Cybernova 2025 — Analyse technique\n",
    "Auteur : Colin  \n",
    "Date : 20 octobre 2025\n",
    "\n",
    "---\n",
    "\n",
    "## 1. Objectif\n",
    "Analyser les interactions avec le serveur Replit et vérifier la présence du flag, via les endpoints `/search`, `/admin`, et `/flag`.\n",
    "\n",
    "---\n",
    "\n",
    "## 2. Commandes exécutées\n",
    "\n",
    "### a. Recherche \"alice\"\n",
    "```bash\n",
    "curl -s -i -X POST -d \"q=alice\" \"https://54018434-84e6-41eb-ad83-b0c881caa772-00-3l5mcm1594fnm.riker.replit.dev//search\" -o evidence/search_alice_response.txt\n"
   ]
  }
 ],
 "metadata": {
  "language_info": {
   "name": "python"
  }
 },
 "nbformat": 4,
 "nbformat_minor": 5
}
